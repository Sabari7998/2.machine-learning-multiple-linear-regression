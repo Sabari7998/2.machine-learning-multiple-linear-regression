{
 "cells": [
  {
   "cell_type": "code",
   "execution_count": 3,
   "id": "43a100ce-132a-410a-8db5-d0622c54dc11",
   "metadata": {},
   "outputs": [],
   "source": [
    "import pickle"
   ]
  },
  {
   "cell_type": "code",
   "execution_count": 5,
   "id": "a3a14ee4-b0e8-4652-87f7-6e15690d010f",
   "metadata": {},
   "outputs": [
    {
     "name": "stderr",
     "output_type": "stream",
     "text": [
      "C:\\Users\\LENOVO\\Anaconda3\\Lib\\site-packages\\sklearn\\base.py:493: UserWarning: X does not have valid feature names, but LinearRegression was fitted with feature names\n",
      "  warnings.warn(\n"
     ]
    }
   ],
   "source": [
    "loaded_model=pickle.load(open(\"finalized_model_mullinear.sav\",'rb'))\n",
    "result=loaded_model.predict([[235452,345502,275432,0,0]])"
   ]
  },
  {
   "cell_type": "code",
   "execution_count": 7,
   "id": "a5eea61c-5c78-445f-ad01-182fedd400d6",
   "metadata": {},
   "outputs": [
    {
     "data": {
      "text/plain": [
       "array([[247584.33504654]])"
      ]
     },
     "execution_count": 7,
     "metadata": {},
     "output_type": "execute_result"
    }
   ],
   "source": [
    "result"
   ]
  },
  {
   "cell_type": "code",
   "execution_count": null,
   "id": "fab3b99a-6966-44a6-8db9-68f8d7fe966f",
   "metadata": {},
   "outputs": [],
   "source": [
    "#We can ask user input for above predict value\n",
    "#pickle.dump(regressor,open(filename,'wb'))\n",
    "#rd_input=float(input(\"R&D:\"))\n",
    "#admin_input=float(input(\"Admin\"))\n",
    "#mark_input=float(input(\"Marketing \"))\n",
    "#fol_input=int(input(\"State_flo 0 or 1:\"))\n",
    "#new_input=int(input(\"State_new 0 or 1:\"))\n",
    "#loaded_model=pickle.load(open(\"finalized_model_mullinear.sav\",'rb'))\n",
    "#result=loaded_model.predict([[rd_input,admin_input,mark_input,fol_input,new_input]])"
   ]
  }
 ],
 "metadata": {
  "kernelspec": {
   "display_name": "Python 3 (ipykernel)",
   "language": "python",
   "name": "python3"
  },
  "language_info": {
   "codemirror_mode": {
    "name": "ipython",
    "version": 3
   },
   "file_extension": ".py",
   "mimetype": "text/x-python",
   "name": "python",
   "nbconvert_exporter": "python",
   "pygments_lexer": "ipython3",
   "version": "3.12.4"
  }
 },
 "nbformat": 4,
 "nbformat_minor": 5
}
